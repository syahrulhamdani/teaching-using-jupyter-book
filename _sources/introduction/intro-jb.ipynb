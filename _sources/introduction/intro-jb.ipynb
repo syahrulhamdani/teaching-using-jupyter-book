{
 "cells": [
  {
   "cell_type": "markdown",
   "id": "b460558e-1c0e-42a8-94ae-55f54d3af6bb",
   "metadata": {},
   "source": [
    "# Introduction to Jupyter Book\n",
    "\n",
    "This is an introduction and a sample of jupyter book delivered for PyCon Indonesia 2021 on 4-5 December 2021.\n",
    "\n",
    "\n",
    "## What is Jupyter Book?\n",
    "\n",
    "Based on {cite:p}`jb`, Jupyter Book is an open-source project for building **beautiful, publication-quality books and documents** from computational material. This include, programming, machine learning, data science, computer science, etc.\n",
    "\n",
    "\n",
    "## Features\n",
    "\n",
    "We can do a lot with Jupyter Book. Imagine you're building a book. Some features offered:\n",
    "* Publication quality content\n",
    "* Execute, cache, and insert computational content (through notebook or markdown)\n",
    "* Interactivity inside content and outputs\n",
    "* Build both books and articles in many formats\n",
    "\n",
    "\n",
    "## Getting Started\n",
    "\n",
    "First, install the `jupyter-book` library, of course. The usage of virtual environment is encouraged to isolate things. You can use any tools, `conda`, `pyenv-virtualenv`, or `pipenv` like me.\n",
    "\n",
    "```bash\n",
    "pip install jupyter-book\n",
    "```\n",
    "\n",
    "## What Next?\n",
    "\n",
    "Next, we will try some special contents provided by Jupyter Book. For more high level introduction about Jupyter Book, check out the slide [here](https://docs.google.com/presentation/d/11KYUQjjnCGaBj2z4GmxOPe8oN5h42VbV_Fu_EuTpHoo/edit?usp=sharing)."
   ]
  }
 ],
 "metadata": {
  "kernelspec": {
   "display_name": "Python 3 (ipykernel)",
   "language": "python",
   "name": "python3"
  },
  "language_info": {
   "codemirror_mode": {
    "name": "ipython",
    "version": 3
   },
   "file_extension": ".py",
   "mimetype": "text/x-python",
   "name": "python",
   "nbconvert_exporter": "python",
   "pygments_lexer": "ipython3",
   "version": "3.9.4"
  }
 },
 "nbformat": 4,
 "nbformat_minor": 5
}
